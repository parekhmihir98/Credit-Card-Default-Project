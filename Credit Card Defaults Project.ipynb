{
 "cells": [
  {
   "cell_type": "markdown",
   "metadata": {},
   "source": [
    "# Credit Cards Defaults - Project Summary\n",
    "\n",
    "## Why am I conducting this project?\n",
    "\n",
    "Using the dataset on credit card default with a variety of variables relating to the demographics of the individuals and their payment history between April 2005 - September 2005, the task is to predict whether an individual defaults in the following month.\n",
    "\n",
    "This is important for a credit card company to understand the risk level of different customers and whether there is a high risk customer type that the company could conduct further screening for before offering their services.\n",
    "\n",
    "## Hypotheses & Metric choices\n",
    "\n",
    "The following list will present hypotheses which I believe will have an impact on credit card default and hence why I will be adding them to the model (INITIAL ASSUMPTIONS WITH NO RELATION TO RESULTS)\n",
    " - Individuals who are more educated are likely to have better paying jobs/understand the long term implications of default and are hence less likely to default\n",
    " - Older individuals (maybe more financially mature) are less likely to default than younger individuals\n",
    " - Individuals with a higher balance limit are more likely to default (more scope for financial recklessness) - Quite weak hypothesis\n",
    " - Single individuals are more likely to default than married individuals (reduced income security)\n",
    " - Individuals who pay duly each month are less likely to default than those who do not\n",
    " - Default rate between men and women is equal\n",
    " \n",
    "## Model Scores\n",
    "\n",
    "- Evaluation metric choice: ROC_AUC score - explained <a href = '#roc_auc'> here </a>\n",
    "- **Baseline model: Logisitic regression - Model cross validated score = [0.58632406 0.631525   0.62611891]**\n",
    "- First iteration - Random forest classifier - Model cross validated score = [0.5677343 , 0.56818185, 0.56545654]\n",
    "- First iteration - Random forest classifier (with model hypertuning) - Model cross validated score = [0.5989066 , 0.62402006, 0.62082581]\n",
    "- **Second iteration - Random forest classifier (with addition payment delay variables) - Model cross validated score = [0.71882929, 0.75468678, 0.75359391]**\n",
    "\n",
    "## Results - Business intuition\n",
    "\n",
    "- The purpose of this project was to not only create a model which can predict default likelihood of a customer, it was also to understand the demographics and risk factors for individuals that are high risk.\n",
    "- As shown by the feature importance bar chart, the top 3 most importance factors that influence whether the individual is likely to default in the next month (from the given variables), is whether they delayed payment in September by over 2+ months, whether they delayed payment in August by over 2+ months and whether they delayed payment in July by over 2+ months - This seems rather intuitive\n",
    "- Individuals with higher credit balances are less likely to default\n",
    "- Although age, marriage, education and sex all have lower feature importance, they are all still significant in the logistic regression (5% level of significance). \n",
    "    - There is a negative association between age and default\n",
    "    - There is a positive association between marriage and default\n",
    "    - There is a negative association between education and default\n",
    "    - There is a positive association between being male and default\n",
    "    \n",
    "\n",
    "## Note: Further feature engineering will still be conducted to improve this project and model performance in the future."
   ]
  },
  {
   "cell_type": "markdown",
   "metadata": {},
   "source": [
    "## Exploratory Data Analysis & Cleaning the dataframe"
   ]
  },
  {
   "cell_type": "code",
   "execution_count": 63,
   "metadata": {},
   "outputs": [],
   "source": [
    "#importing the required libraries\n",
    "import numpy as np\n",
    "import pandas as pd\n",
    "import matplotlib.pyplot as plt\n",
    "import seaborn as sn\n",
    "\n",
    "from sklearn.linear_model import LogisticRegression\n",
    "from sklearn.model_selection import KFold, cross_val_score, RandomizedSearchCV\n",
    "from sklearn import metrics\n",
    "import statsmodels.api as sm\n",
    "\n",
    "from sklearn.ensemble import RandomForestClassifier\n",
    "\n",
    "import warnings"
   ]
  },
  {
   "cell_type": "code",
   "execution_count": 64,
   "metadata": {
    "scrolled": true
   },
   "outputs": [
    {
     "data": {
      "text/html": [
       "<div>\n",
       "<style scoped>\n",
       "    .dataframe tbody tr th:only-of-type {\n",
       "        vertical-align: middle;\n",
       "    }\n",
       "\n",
       "    .dataframe tbody tr th {\n",
       "        vertical-align: top;\n",
       "    }\n",
       "\n",
       "    .dataframe thead th {\n",
       "        text-align: right;\n",
       "    }\n",
       "</style>\n",
       "<table border=\"1\" class=\"dataframe\">\n",
       "  <thead>\n",
       "    <tr style=\"text-align: right;\">\n",
       "      <th></th>\n",
       "      <th>ID</th>\n",
       "      <th>LIMIT_BAL</th>\n",
       "      <th>SEX</th>\n",
       "      <th>EDUCATION</th>\n",
       "      <th>MARRIAGE</th>\n",
       "      <th>AGE</th>\n",
       "      <th>PAY_0</th>\n",
       "      <th>PAY_2</th>\n",
       "      <th>PAY_3</th>\n",
       "      <th>PAY_4</th>\n",
       "      <th>...</th>\n",
       "      <th>BILL_AMT4</th>\n",
       "      <th>BILL_AMT5</th>\n",
       "      <th>BILL_AMT6</th>\n",
       "      <th>PAY_AMT1</th>\n",
       "      <th>PAY_AMT2</th>\n",
       "      <th>PAY_AMT3</th>\n",
       "      <th>PAY_AMT4</th>\n",
       "      <th>PAY_AMT5</th>\n",
       "      <th>PAY_AMT6</th>\n",
       "      <th>default payment next month</th>\n",
       "    </tr>\n",
       "  </thead>\n",
       "  <tbody>\n",
       "    <tr>\n",
       "      <th>0</th>\n",
       "      <td>1</td>\n",
       "      <td>20000</td>\n",
       "      <td>2</td>\n",
       "      <td>2</td>\n",
       "      <td>1</td>\n",
       "      <td>24</td>\n",
       "      <td>2</td>\n",
       "      <td>2</td>\n",
       "      <td>-1</td>\n",
       "      <td>-1</td>\n",
       "      <td>...</td>\n",
       "      <td>0</td>\n",
       "      <td>0</td>\n",
       "      <td>0</td>\n",
       "      <td>0</td>\n",
       "      <td>689</td>\n",
       "      <td>0</td>\n",
       "      <td>0</td>\n",
       "      <td>0</td>\n",
       "      <td>0</td>\n",
       "      <td>1</td>\n",
       "    </tr>\n",
       "    <tr>\n",
       "      <th>1</th>\n",
       "      <td>2</td>\n",
       "      <td>120000</td>\n",
       "      <td>2</td>\n",
       "      <td>2</td>\n",
       "      <td>2</td>\n",
       "      <td>26</td>\n",
       "      <td>-1</td>\n",
       "      <td>2</td>\n",
       "      <td>0</td>\n",
       "      <td>0</td>\n",
       "      <td>...</td>\n",
       "      <td>3272</td>\n",
       "      <td>3455</td>\n",
       "      <td>3261</td>\n",
       "      <td>0</td>\n",
       "      <td>1000</td>\n",
       "      <td>1000</td>\n",
       "      <td>1000</td>\n",
       "      <td>0</td>\n",
       "      <td>2000</td>\n",
       "      <td>1</td>\n",
       "    </tr>\n",
       "    <tr>\n",
       "      <th>2</th>\n",
       "      <td>3</td>\n",
       "      <td>90000</td>\n",
       "      <td>2</td>\n",
       "      <td>2</td>\n",
       "      <td>2</td>\n",
       "      <td>34</td>\n",
       "      <td>0</td>\n",
       "      <td>0</td>\n",
       "      <td>0</td>\n",
       "      <td>0</td>\n",
       "      <td>...</td>\n",
       "      <td>14331</td>\n",
       "      <td>14948</td>\n",
       "      <td>15549</td>\n",
       "      <td>1518</td>\n",
       "      <td>1500</td>\n",
       "      <td>1000</td>\n",
       "      <td>1000</td>\n",
       "      <td>1000</td>\n",
       "      <td>5000</td>\n",
       "      <td>0</td>\n",
       "    </tr>\n",
       "    <tr>\n",
       "      <th>3</th>\n",
       "      <td>4</td>\n",
       "      <td>50000</td>\n",
       "      <td>2</td>\n",
       "      <td>2</td>\n",
       "      <td>1</td>\n",
       "      <td>37</td>\n",
       "      <td>0</td>\n",
       "      <td>0</td>\n",
       "      <td>0</td>\n",
       "      <td>0</td>\n",
       "      <td>...</td>\n",
       "      <td>28314</td>\n",
       "      <td>28959</td>\n",
       "      <td>29547</td>\n",
       "      <td>2000</td>\n",
       "      <td>2019</td>\n",
       "      <td>1200</td>\n",
       "      <td>1100</td>\n",
       "      <td>1069</td>\n",
       "      <td>1000</td>\n",
       "      <td>0</td>\n",
       "    </tr>\n",
       "    <tr>\n",
       "      <th>4</th>\n",
       "      <td>5</td>\n",
       "      <td>50000</td>\n",
       "      <td>1</td>\n",
       "      <td>2</td>\n",
       "      <td>1</td>\n",
       "      <td>57</td>\n",
       "      <td>-1</td>\n",
       "      <td>0</td>\n",
       "      <td>-1</td>\n",
       "      <td>0</td>\n",
       "      <td>...</td>\n",
       "      <td>20940</td>\n",
       "      <td>19146</td>\n",
       "      <td>19131</td>\n",
       "      <td>2000</td>\n",
       "      <td>36681</td>\n",
       "      <td>10000</td>\n",
       "      <td>9000</td>\n",
       "      <td>689</td>\n",
       "      <td>679</td>\n",
       "      <td>0</td>\n",
       "    </tr>\n",
       "  </tbody>\n",
       "</table>\n",
       "<p>5 rows × 25 columns</p>\n",
       "</div>"
      ],
      "text/plain": [
       "   ID  LIMIT_BAL  SEX  EDUCATION  MARRIAGE  AGE  PAY_0  PAY_2  PAY_3  PAY_4  \\\n",
       "0   1      20000    2          2         1   24      2      2     -1     -1   \n",
       "1   2     120000    2          2         2   26     -1      2      0      0   \n",
       "2   3      90000    2          2         2   34      0      0      0      0   \n",
       "3   4      50000    2          2         1   37      0      0      0      0   \n",
       "4   5      50000    1          2         1   57     -1      0     -1      0   \n",
       "\n",
       "   ...  BILL_AMT4  BILL_AMT5  BILL_AMT6  PAY_AMT1  PAY_AMT2  PAY_AMT3  \\\n",
       "0  ...          0          0          0         0       689         0   \n",
       "1  ...       3272       3455       3261         0      1000      1000   \n",
       "2  ...      14331      14948      15549      1518      1500      1000   \n",
       "3  ...      28314      28959      29547      2000      2019      1200   \n",
       "4  ...      20940      19146      19131      2000     36681     10000   \n",
       "\n",
       "   PAY_AMT4  PAY_AMT5  PAY_AMT6  default payment next month  \n",
       "0         0         0         0                           1  \n",
       "1      1000         0      2000                           1  \n",
       "2      1000      1000      5000                           0  \n",
       "3      1100      1069      1000                           0  \n",
       "4      9000       689       679                           0  \n",
       "\n",
       "[5 rows x 25 columns]"
      ]
     },
     "execution_count": 64,
     "metadata": {},
     "output_type": "execute_result"
    }
   ],
   "source": [
    "#importing the data\n",
    "creditcarddf = pd.read_csv(\"Dataset 5.csv\")\n",
    "\n",
    "#Basic dataframe understanding\n",
    "creditcarddf.head()"
   ]
  },
  {
   "cell_type": "code",
   "execution_count": 65,
   "metadata": {},
   "outputs": [
    {
     "data": {
      "text/html": [
       "<div>\n",
       "<style scoped>\n",
       "    .dataframe tbody tr th:only-of-type {\n",
       "        vertical-align: middle;\n",
       "    }\n",
       "\n",
       "    .dataframe tbody tr th {\n",
       "        vertical-align: top;\n",
       "    }\n",
       "\n",
       "    .dataframe thead th {\n",
       "        text-align: right;\n",
       "    }\n",
       "</style>\n",
       "<table border=\"1\" class=\"dataframe\">\n",
       "  <thead>\n",
       "    <tr style=\"text-align: right;\">\n",
       "      <th></th>\n",
       "      <th>ID</th>\n",
       "      <th>LIMIT_BAL</th>\n",
       "      <th>SEX</th>\n",
       "      <th>EDUCATION</th>\n",
       "      <th>MARRIAGE</th>\n",
       "      <th>AGE</th>\n",
       "      <th>PAY_0</th>\n",
       "      <th>PAY_2</th>\n",
       "      <th>PAY_3</th>\n",
       "      <th>PAY_4</th>\n",
       "      <th>...</th>\n",
       "      <th>BILL_AMT4</th>\n",
       "      <th>BILL_AMT5</th>\n",
       "      <th>BILL_AMT6</th>\n",
       "      <th>PAY_AMT1</th>\n",
       "      <th>PAY_AMT2</th>\n",
       "      <th>PAY_AMT3</th>\n",
       "      <th>PAY_AMT4</th>\n",
       "      <th>PAY_AMT5</th>\n",
       "      <th>PAY_AMT6</th>\n",
       "      <th>default payment next month</th>\n",
       "    </tr>\n",
       "  </thead>\n",
       "  <tbody>\n",
       "    <tr>\n",
       "      <th>count</th>\n",
       "      <td>30000.000000</td>\n",
       "      <td>30000.000000</td>\n",
       "      <td>30000.000000</td>\n",
       "      <td>30000.000000</td>\n",
       "      <td>30000.000000</td>\n",
       "      <td>30000.000000</td>\n",
       "      <td>30000.000000</td>\n",
       "      <td>30000.000000</td>\n",
       "      <td>30000.000000</td>\n",
       "      <td>30000.000000</td>\n",
       "      <td>...</td>\n",
       "      <td>30000.000000</td>\n",
       "      <td>30000.000000</td>\n",
       "      <td>30000.000000</td>\n",
       "      <td>30000.000000</td>\n",
       "      <td>3.000000e+04</td>\n",
       "      <td>30000.00000</td>\n",
       "      <td>30000.000000</td>\n",
       "      <td>30000.000000</td>\n",
       "      <td>30000.000000</td>\n",
       "      <td>30000.000000</td>\n",
       "    </tr>\n",
       "    <tr>\n",
       "      <th>mean</th>\n",
       "      <td>15000.500000</td>\n",
       "      <td>167484.322667</td>\n",
       "      <td>1.603733</td>\n",
       "      <td>1.853133</td>\n",
       "      <td>1.551867</td>\n",
       "      <td>35.485500</td>\n",
       "      <td>-0.016700</td>\n",
       "      <td>-0.133767</td>\n",
       "      <td>-0.166200</td>\n",
       "      <td>-0.220667</td>\n",
       "      <td>...</td>\n",
       "      <td>43262.948967</td>\n",
       "      <td>40311.400967</td>\n",
       "      <td>38871.760400</td>\n",
       "      <td>5663.580500</td>\n",
       "      <td>5.921163e+03</td>\n",
       "      <td>5225.68150</td>\n",
       "      <td>4826.076867</td>\n",
       "      <td>4799.387633</td>\n",
       "      <td>5215.502567</td>\n",
       "      <td>0.221200</td>\n",
       "    </tr>\n",
       "    <tr>\n",
       "      <th>std</th>\n",
       "      <td>8660.398374</td>\n",
       "      <td>129747.661567</td>\n",
       "      <td>0.489129</td>\n",
       "      <td>0.790349</td>\n",
       "      <td>0.521970</td>\n",
       "      <td>9.217904</td>\n",
       "      <td>1.123802</td>\n",
       "      <td>1.197186</td>\n",
       "      <td>1.196868</td>\n",
       "      <td>1.169139</td>\n",
       "      <td>...</td>\n",
       "      <td>64332.856134</td>\n",
       "      <td>60797.155770</td>\n",
       "      <td>59554.107537</td>\n",
       "      <td>16563.280354</td>\n",
       "      <td>2.304087e+04</td>\n",
       "      <td>17606.96147</td>\n",
       "      <td>15666.159744</td>\n",
       "      <td>15278.305679</td>\n",
       "      <td>17777.465775</td>\n",
       "      <td>0.415062</td>\n",
       "    </tr>\n",
       "    <tr>\n",
       "      <th>min</th>\n",
       "      <td>1.000000</td>\n",
       "      <td>10000.000000</td>\n",
       "      <td>1.000000</td>\n",
       "      <td>0.000000</td>\n",
       "      <td>0.000000</td>\n",
       "      <td>21.000000</td>\n",
       "      <td>-2.000000</td>\n",
       "      <td>-2.000000</td>\n",
       "      <td>-2.000000</td>\n",
       "      <td>-2.000000</td>\n",
       "      <td>...</td>\n",
       "      <td>-170000.000000</td>\n",
       "      <td>-81334.000000</td>\n",
       "      <td>-339603.000000</td>\n",
       "      <td>0.000000</td>\n",
       "      <td>0.000000e+00</td>\n",
       "      <td>0.00000</td>\n",
       "      <td>0.000000</td>\n",
       "      <td>0.000000</td>\n",
       "      <td>0.000000</td>\n",
       "      <td>0.000000</td>\n",
       "    </tr>\n",
       "    <tr>\n",
       "      <th>25%</th>\n",
       "      <td>7500.750000</td>\n",
       "      <td>50000.000000</td>\n",
       "      <td>1.000000</td>\n",
       "      <td>1.000000</td>\n",
       "      <td>1.000000</td>\n",
       "      <td>28.000000</td>\n",
       "      <td>-1.000000</td>\n",
       "      <td>-1.000000</td>\n",
       "      <td>-1.000000</td>\n",
       "      <td>-1.000000</td>\n",
       "      <td>...</td>\n",
       "      <td>2326.750000</td>\n",
       "      <td>1763.000000</td>\n",
       "      <td>1256.000000</td>\n",
       "      <td>1000.000000</td>\n",
       "      <td>8.330000e+02</td>\n",
       "      <td>390.00000</td>\n",
       "      <td>296.000000</td>\n",
       "      <td>252.500000</td>\n",
       "      <td>117.750000</td>\n",
       "      <td>0.000000</td>\n",
       "    </tr>\n",
       "    <tr>\n",
       "      <th>50%</th>\n",
       "      <td>15000.500000</td>\n",
       "      <td>140000.000000</td>\n",
       "      <td>2.000000</td>\n",
       "      <td>2.000000</td>\n",
       "      <td>2.000000</td>\n",
       "      <td>34.000000</td>\n",
       "      <td>0.000000</td>\n",
       "      <td>0.000000</td>\n",
       "      <td>0.000000</td>\n",
       "      <td>0.000000</td>\n",
       "      <td>...</td>\n",
       "      <td>19052.000000</td>\n",
       "      <td>18104.500000</td>\n",
       "      <td>17071.000000</td>\n",
       "      <td>2100.000000</td>\n",
       "      <td>2.009000e+03</td>\n",
       "      <td>1800.00000</td>\n",
       "      <td>1500.000000</td>\n",
       "      <td>1500.000000</td>\n",
       "      <td>1500.000000</td>\n",
       "      <td>0.000000</td>\n",
       "    </tr>\n",
       "    <tr>\n",
       "      <th>75%</th>\n",
       "      <td>22500.250000</td>\n",
       "      <td>240000.000000</td>\n",
       "      <td>2.000000</td>\n",
       "      <td>2.000000</td>\n",
       "      <td>2.000000</td>\n",
       "      <td>41.000000</td>\n",
       "      <td>0.000000</td>\n",
       "      <td>0.000000</td>\n",
       "      <td>0.000000</td>\n",
       "      <td>0.000000</td>\n",
       "      <td>...</td>\n",
       "      <td>54506.000000</td>\n",
       "      <td>50190.500000</td>\n",
       "      <td>49198.250000</td>\n",
       "      <td>5006.000000</td>\n",
       "      <td>5.000000e+03</td>\n",
       "      <td>4505.00000</td>\n",
       "      <td>4013.250000</td>\n",
       "      <td>4031.500000</td>\n",
       "      <td>4000.000000</td>\n",
       "      <td>0.000000</td>\n",
       "    </tr>\n",
       "    <tr>\n",
       "      <th>max</th>\n",
       "      <td>30000.000000</td>\n",
       "      <td>1000000.000000</td>\n",
       "      <td>2.000000</td>\n",
       "      <td>6.000000</td>\n",
       "      <td>3.000000</td>\n",
       "      <td>79.000000</td>\n",
       "      <td>8.000000</td>\n",
       "      <td>8.000000</td>\n",
       "      <td>8.000000</td>\n",
       "      <td>8.000000</td>\n",
       "      <td>...</td>\n",
       "      <td>891586.000000</td>\n",
       "      <td>927171.000000</td>\n",
       "      <td>961664.000000</td>\n",
       "      <td>873552.000000</td>\n",
       "      <td>1.684259e+06</td>\n",
       "      <td>896040.00000</td>\n",
       "      <td>621000.000000</td>\n",
       "      <td>426529.000000</td>\n",
       "      <td>528666.000000</td>\n",
       "      <td>1.000000</td>\n",
       "    </tr>\n",
       "  </tbody>\n",
       "</table>\n",
       "<p>8 rows × 25 columns</p>\n",
       "</div>"
      ],
      "text/plain": [
       "                 ID       LIMIT_BAL           SEX     EDUCATION      MARRIAGE  \\\n",
       "count  30000.000000    30000.000000  30000.000000  30000.000000  30000.000000   \n",
       "mean   15000.500000   167484.322667      1.603733      1.853133      1.551867   \n",
       "std     8660.398374   129747.661567      0.489129      0.790349      0.521970   \n",
       "min        1.000000    10000.000000      1.000000      0.000000      0.000000   \n",
       "25%     7500.750000    50000.000000      1.000000      1.000000      1.000000   \n",
       "50%    15000.500000   140000.000000      2.000000      2.000000      2.000000   \n",
       "75%    22500.250000   240000.000000      2.000000      2.000000      2.000000   \n",
       "max    30000.000000  1000000.000000      2.000000      6.000000      3.000000   \n",
       "\n",
       "                AGE         PAY_0         PAY_2         PAY_3         PAY_4  \\\n",
       "count  30000.000000  30000.000000  30000.000000  30000.000000  30000.000000   \n",
       "mean      35.485500     -0.016700     -0.133767     -0.166200     -0.220667   \n",
       "std        9.217904      1.123802      1.197186      1.196868      1.169139   \n",
       "min       21.000000     -2.000000     -2.000000     -2.000000     -2.000000   \n",
       "25%       28.000000     -1.000000     -1.000000     -1.000000     -1.000000   \n",
       "50%       34.000000      0.000000      0.000000      0.000000      0.000000   \n",
       "75%       41.000000      0.000000      0.000000      0.000000      0.000000   \n",
       "max       79.000000      8.000000      8.000000      8.000000      8.000000   \n",
       "\n",
       "       ...      BILL_AMT4      BILL_AMT5      BILL_AMT6       PAY_AMT1  \\\n",
       "count  ...   30000.000000   30000.000000   30000.000000   30000.000000   \n",
       "mean   ...   43262.948967   40311.400967   38871.760400    5663.580500   \n",
       "std    ...   64332.856134   60797.155770   59554.107537   16563.280354   \n",
       "min    ... -170000.000000  -81334.000000 -339603.000000       0.000000   \n",
       "25%    ...    2326.750000    1763.000000    1256.000000    1000.000000   \n",
       "50%    ...   19052.000000   18104.500000   17071.000000    2100.000000   \n",
       "75%    ...   54506.000000   50190.500000   49198.250000    5006.000000   \n",
       "max    ...  891586.000000  927171.000000  961664.000000  873552.000000   \n",
       "\n",
       "           PAY_AMT2      PAY_AMT3       PAY_AMT4       PAY_AMT5  \\\n",
       "count  3.000000e+04   30000.00000   30000.000000   30000.000000   \n",
       "mean   5.921163e+03    5225.68150    4826.076867    4799.387633   \n",
       "std    2.304087e+04   17606.96147   15666.159744   15278.305679   \n",
       "min    0.000000e+00       0.00000       0.000000       0.000000   \n",
       "25%    8.330000e+02     390.00000     296.000000     252.500000   \n",
       "50%    2.009000e+03    1800.00000    1500.000000    1500.000000   \n",
       "75%    5.000000e+03    4505.00000    4013.250000    4031.500000   \n",
       "max    1.684259e+06  896040.00000  621000.000000  426529.000000   \n",
       "\n",
       "            PAY_AMT6  default payment next month  \n",
       "count   30000.000000                30000.000000  \n",
       "mean     5215.502567                    0.221200  \n",
       "std     17777.465775                    0.415062  \n",
       "min         0.000000                    0.000000  \n",
       "25%       117.750000                    0.000000  \n",
       "50%      1500.000000                    0.000000  \n",
       "75%      4000.000000                    0.000000  \n",
       "max    528666.000000                    1.000000  \n",
       "\n",
       "[8 rows x 25 columns]"
      ]
     },
     "execution_count": 65,
     "metadata": {},
     "output_type": "execute_result"
    }
   ],
   "source": [
    "creditcarddf.describe()"
   ]
  },
  {
   "cell_type": "markdown",
   "metadata": {},
   "source": [
    "By looking at value counts, I am able to understand if there are any anomalies with the data, and how I should feature engineer the variables."
   ]
  },
  {
   "cell_type": "markdown",
   "metadata": {},
   "source": [
    "<a id = 'defaultdistribution'></a>"
   ]
  },
  {
   "cell_type": "code",
   "execution_count": 66,
   "metadata": {},
   "outputs": [
    {
     "data": {
      "text/plain": [
       "[Text(0, 0, '0'), Text(0, 0, '1')]"
      ]
     },
     "execution_count": 66,
     "metadata": {},
     "output_type": "execute_result"
    },
    {
     "data": {
      "image/png": "[encoded data removed]",
      "text/plain": [
       "<Figure size 432x288 with 1 Axes>"
      ]
     },
     "metadata": {
      "needs_background": "light"
     },
     "output_type": "display_data"
    }
   ],
   "source": [
    "fig, ax = plt.subplots()\n",
    "ax.hist(creditcarddf['default payment next month'])\n",
    "ax.set_xlabel('Default payment next month (1 = default, 0 = no default)')\n",
    "ax.set_ylabel('No of individauls')\n",
    "ax.set_title('Number of people who default versus do not default in the next month')\n",
    "ax.set_xticks([0,1])\n",
    "ax.set_xticklabels([0,1])\n"
   ]
  },
  {
   "cell_type": "code",
   "execution_count": 67,
   "metadata": {
    "scrolled": false
   },
   "outputs": [
    {
     "data": {
      "text/plain": [
       "2    18112\n",
       "1    11888\n",
       "Name: SEX, dtype: int64"
      ]
     },
     "execution_count": 67,
     "metadata": {},
     "output_type": "execute_result"
    }
   ],
   "source": [
    "creditcarddf['SEX'].value_counts()"
   ]
  },
  {
   "cell_type": "code",
   "execution_count": 68,
   "metadata": {
    "scrolled": true
   },
   "outputs": [
    {
     "data": {
      "text/plain": [
       "2    14030\n",
       "1    10585\n",
       "3     4917\n",
       "5      280\n",
       "4      123\n",
       "6       51\n",
       "0       14\n",
       "Name: EDUCATION, dtype: int64"
      ]
     },
     "execution_count": 68,
     "metadata": {},
     "output_type": "execute_result"
    }
   ],
   "source": [
    "creditcarddf['EDUCATION'].value_counts()\n",
    "#(1=graduate school, 2=university, 3=high school, 4=others, 5=unknown, 6=unknown)"
   ]
  },
  {
   "cell_type": "code",
   "execution_count": 69,
   "metadata": {
    "scrolled": true
   },
   "outputs": [
    {
     "data": {
      "text/plain": [
       "2    15964\n",
       "1    13659\n",
       "3      323\n",
       "0       54\n",
       "Name: MARRIAGE, dtype: int64"
      ]
     },
     "execution_count": 69,
     "metadata": {},
     "output_type": "execute_result"
    }
   ],
   "source": [
    "creditcarddf['MARRIAGE'].value_counts()\n",
    "#1 = Married, 2 = Single 3 = Other"
   ]
  },
  {
   "cell_type": "markdown",
   "metadata": {},
   "source": [
    "Cleaning the dataframe"
   ]
  },
  {
   "cell_type": "code",
   "execution_count": 70,
   "metadata": {},
   "outputs": [],
   "source": [
    "#Cleaning the dataframe\n",
    "\n",
    "to_drop = ['PAY_AMT1', 'PAY_AMT2', 'PAY_AMT3', 'PAY_AMT4', 'PAY_AMT5', 'PAY_AMT6']\n",
    "creditcarddf = creditcarddf.drop(to_drop, axis = 1) \n",
    "\n",
    "creditcarddf = creditcarddf.set_index('ID') #Setting the index of the dataframe to ID\n",
    "\n",
    "#sex column\n",
    "creditcarddf['SEX_DUMMY'] = np.where(creditcarddf['SEX'] == 2, 0, 1) #Female = 0, Male = 1\n",
    "\n",
    "#marriage column\n",
    "creditcarddf['MARRIAGE_DUMMY'] = np.where(creditcarddf['MARRIAGE'] == 1, 1, 0) #Married = 1, Single/Other = 0\n",
    "\n",
    "#education column\n",
    "creditcarddf['EDUCATION_DUMMY'] = np.where(creditcarddf['EDUCATION'] <=2, 1, 0) #University grad vs non-university grad"
   ]
  },
  {
   "cell_type": "code",
   "execution_count": 71,
   "metadata": {},
   "outputs": [
    {
     "data": {
      "text/plain": [
       "<matplotlib.axes._subplots.AxesSubplot at 0x1c511fadd8>"
      ]
     },
     "execution_count": 71,
     "metadata": {},
     "output_type": "execute_result"
    },
    {
     "data": {
      "image/png": "[encoded data removed]",
      "text/plain": [
       "<Figure size 432x288 with 2 Axes>"
      ]
     },
     "metadata": {
      "needs_background": "light"
     },
     "output_type": "display_data"
    }
   ],
   "source": [
    "correlationdf = creditcarddf[['LIMIT_BAL', 'SEX', 'EDUCATION', 'MARRIAGE', 'AGE', 'default payment next month']]\n",
    "corrMatrix = correlationdf.corr()\n",
    "sn.heatmap(corrMatrix, annot = True)"
   ]
  },
  {
   "cell_type": "markdown",
   "metadata": {},
   "source": [
    "The correlation matrix has a few initial insights\n",
    " - The balance limit has the strongest negative correlation with whether the individual defaults next month. This is rather intuitive as the bank are likely to lend less to individuals they pose as higher risk\n",
    " - Male individuals have a slightly higher correlation with defaulting\n",
    " - Education has a slightly lower correlation with defaulting\n",
    " - Marriage has a slightly positive correlation with defaulting\n",
    " - Age and defaulting are also weakly positively correlated\n",
    " \n",
    " The most highly correlated independent variables are: (This is important due to multicollinearity in a linear regression)\n",
    " - Age and education\n",
    " - Age and marriage"
   ]
  },
  {
   "cell_type": "code",
   "execution_count": 72,
   "metadata": {},
   "outputs": [
    {
     "data": {
      "text/plain": [
       "Text(0, 0.5, 'Number of individuals')"
      ]
     },
     "execution_count": 72,
     "metadata": {},
     "output_type": "execute_result"
    },
    {
     "data": {
      "image/png": "[encoded data removed]",
      "text/plain": [
       "<Figure size 1080x1080 with 4 Axes>"
      ]
     },
     "metadata": {
      "needs_background": "light"
     },
     "output_type": "display_data"
    }
   ],
   "source": [
    "fig, ax = plt.subplots(2,2)\n",
    "fig.subplots_adjust(wspace = 0.5, hspace = 0.5)\n",
    "fig.set_size_inches(15,15)\n",
    "\n",
    "ax[0,0].hist(creditcarddf['EDUCATION'])\n",
    "ax[0,0].set_title('Histogram of education')\n",
    "ax[0,0].set_xlabel('Education level (1=graduate school, 2=university, 3=high school, 4=others, 5=unknown, 6=unknown)')\n",
    "ax[0,0].set_ylabel('Number of individuals')\n",
    "\n",
    "ax[0,1].hist(creditcarddf['MARRIAGE'])\n",
    "ax[0,1].set_title('Histogram of marriage')\n",
    "ax[0,1].set_xlabel('Marriage variable (1=married, 2=single, 3=others)')\n",
    "ax[0,1].set_ylabel('Number of individuals')\n",
    "\n",
    "ax[1,0].hist(creditcarddf['AGE'])\n",
    "ax[1,0].set_title('Histogram of age')\n",
    "ax[1,0].set_xlabel('Age')\n",
    "ax[1,0].set_ylabel('Number of individuals')\n",
    "\n",
    "ax[1,1].hist(creditcarddf['LIMIT_BAL'])\n",
    "ax[1,1].set_title('Histogram of account balance limits')\n",
    "ax[1,1].set_xlabel('Account balance limit (set by bank)')\n",
    "ax[1,1].set_ylabel('Number of individuals')"
   ]
  },
  {
   "cell_type": "markdown",
   "metadata": {},
   "source": [
    "<a id = 'roc_auc'></a>"
   ]
  },
  {
   "cell_type": "markdown",
   "metadata": {},
   "source": [
    "## Baseline Logistic Regression & Evaluation Metric Determination\n",
    "\n",
    "I have chosen to use the logisitic regression model as my baseline because it is simple and easy to understand model which (when used with the statsmodels package) can provide the marginal impact of each feature on the outcome variable.\n",
    "\n",
    "My evaluation metric of choice is the ROC AUC score. As can be seen in the histogram of defaults <a href = '#defaultdistribution'> here </a>, the vast majority of the 30,000 individuals do not default - due to this imbalance, accuracy score would be a poor metric of choice (you could get a high accuracy score by classifying all individuals as 'no defaulters')."
   ]
  },
  {
   "cell_type": "code",
   "execution_count": 87,
   "metadata": {},
   "outputs": [
    {
     "name": "stdout",
     "output_type": "stream",
     "text": [
      "The ROC_AUC cross validation scores are: [0.58632406 0.631525   0.62611891]\n"
     ]
    }
   ],
   "source": [
    "features = ['LIMIT_BAL', 'SEX_DUMMY', 'EDUCATION_DUMMY', 'MARRIAGE_DUMMY', 'AGE']\n",
    "ccdefaultfeatures = creditcarddf[features]\n",
    "\n",
    "ccdefaultlabel = creditcarddf['default payment next month']\n",
    "\n",
    "#instantiate the model\n",
    "logregmodel = LogisticRegression(solver='lbfgs')\n",
    "\n",
    "#fit the model with data\n",
    "logregmodel.fit(ccdefaultfeatures, ccdefaultlabel)\n",
    "\n",
    "scores = cross_val_score(logregmodel, ccdefaultfeatures, ccdefaultlabel, cv=3,  scoring ='roc_auc')\n",
    "print(\"The ROC_AUC cross validation scores are:\", scores)\n"
   ]
  },
  {
   "cell_type": "code",
   "execution_count": 74,
   "metadata": {},
   "outputs": [
    {
     "name": "stdout",
     "output_type": "stream",
     "text": [
      "Optimization terminated successfully.\n",
      "         Current function value: 0.517905\n",
      "         Iterations 6\n",
      "                               Logit Regression Results                               \n",
      "======================================================================================\n",
      "Dep. Variable:     default payment next month   No. Observations:                30000\n",
      "Model:                                  Logit   Df Residuals:                    29995\n",
      "Method:                                   MLE   Df Model:                            4\n",
      "Date:                        Fri, 03 Jan 2020   Pseudo R-squ.:                 0.01990\n",
      "Time:                                17:12:51   Log-Likelihood:                -15537.\n",
      "converged:                               True   LL-Null:                       -15853.\n",
      "Covariance Type:                    nonrobust   LLR p-value:                2.976e-135\n",
      "===================================================================================\n",
      "                      coef    std err          z      P>|z|      [0.025      0.975]\n",
      "-----------------------------------------------------------------------------------\n",
      "LIMIT_BAL       -3.614e-06   1.31e-07    -27.645      0.000   -3.87e-06   -3.36e-06\n",
      "SEX_DUMMY           0.1339      0.029      4.664      0.000       0.078       0.190\n",
      "EDUCATION_DUMMY    -0.2510      0.030     -8.430      0.000      -0.309      -0.193\n",
      "MARRIAGE_DUMMY      0.2919      0.031      9.308      0.000       0.230       0.353\n",
      "AGE                -0.0187      0.001    -18.743      0.000      -0.021      -0.017\n",
      "===================================================================================\n"
     ]
    }
   ],
   "source": [
    "#Conducting the logistic model using the statsmodels.api library\n",
    "logit = sm.Logit(ccdefaultlabel, ccdefaultfeatures)\n",
    "result = logit.fit()\n",
    "print(result.summary())"
   ]
  },
  {
   "cell_type": "markdown",
   "metadata": {},
   "source": [
    "## Random Forest Classifier"
   ]
  },
  {
   "cell_type": "code",
   "execution_count": 89,
   "metadata": {},
   "outputs": [],
   "source": [
    "def randomforestclassifier(trees, split, leaf, depth):\n",
    "    with warnings.catch_warnings():\n",
    "        warnings.simplefilter(\"ignore\")\n",
    "\n",
    "        rfmodel = RandomForestClassifier(n_estimators = trees, min_samples_split = split, min_samples_leaf = leaf, max_depth = depth, random_state = 42)\n",
    "        rfmodel.fit(ccdefaultfeatures, ccdefaultlabel)\n",
    "\n",
    "        rfscores = cross_val_score(rfmodel, ccdefaultfeatures, ccdefaultlabel, cv=3, scoring = 'roc_auc')\n",
    "    \n",
    "    return \"The cross validation scores are:\", rfscores"
   ]
  },
  {
   "cell_type": "code",
   "execution_count": 90,
   "metadata": {},
   "outputs": [
    {
     "data": {
      "text/plain": [
       "('The cross validation scores are:',\n",
       " array([0.5677343 , 0.56818185, 0.56545654]))"
      ]
     },
     "execution_count": 90,
     "metadata": {},
     "output_type": "execute_result"
    }
   ],
   "source": [
    "randomforestclassifier(100, 2, 1, None) #running model with default values"
   ]
  },
  {
   "cell_type": "markdown",
   "metadata": {},
   "source": [
    "The cross validated scores are lower than the logistic baseline and hence there are two paths\n",
    "- Hyperparameter tuning\n",
    "- Feature engineering from the variety of other columns in the database (most likely to improve model power)\n",
    "\n",
    "I will begin by seeing the impact of hyperparameter tuning."
   ]
  },
  {
   "cell_type": "code",
   "execution_count": 28,
   "metadata": {},
   "outputs": [],
   "source": [
    "#Random hyperparameter grid\n",
    "\n",
    "# Number of trees in random forest\n",
    "n_estimators = [int(x) for x in np.linspace(start = 100, stop = 1000, num = 10)]\n",
    "\n",
    "# Maximum number of levels in tree\n",
    "max_depth = [int(x) for x in np.linspace(10, 110, num = 11)]\n",
    "max_depth.append(None)\n",
    "\n",
    "# Minimum number of samples required to split a node\n",
    "min_samples_split = [2, 5, 10]\n",
    "\n",
    "# Minimum number of samples required at each leaf node\n",
    "min_samples_leaf = [1, 2, 4]\n",
    "\n",
    "#creating the random grid\n",
    "random_grid = {'n_estimators': n_estimators,\n",
    "               'max_depth': max_depth,\n",
    "               'min_samples_split': min_samples_split,\n",
    "               'min_samples_leaf': min_samples_leaf}\n"
   ]
  },
  {
   "cell_type": "code",
   "execution_count": 39,
   "metadata": {},
   "outputs": [
    {
     "name": "stdout",
     "output_type": "stream",
     "text": [
      "Fitting 3 folds for each of 10 candidates, totalling 30 fits\n",
      "[CV] n_estimators=100, min_samples_split=10, min_samples_leaf=2, max_depth=100 \n"
     ]
    },
    {
     "name": "stderr",
     "output_type": "stream",
     "text": [
      "[Parallel(n_jobs=1)]: Using backend SequentialBackend with 1 concurrent workers.\n"
     ]
    },
    {
     "name": "stdout",
     "output_type": "stream",
     "text": [
      "[CV]  n_estimators=100, min_samples_split=10, min_samples_leaf=2, max_depth=100, total=   1.0s\n",
      "[CV] n_estimators=100, min_samples_split=10, min_samples_leaf=2, max_depth=100 \n"
     ]
    },
    {
     "name": "stderr",
     "output_type": "stream",
     "text": [
      "[Parallel(n_jobs=1)]: Done   1 out of   1 | elapsed:    1.0s remaining:    0.0s\n"
     ]
    },
    {
     "name": "stdout",
     "output_type": "stream",
     "text": [
      "[CV]  n_estimators=100, min_samples_split=10, min_samples_leaf=2, max_depth=100, total=   1.0s\n",
      "[CV] n_estimators=100, min_samples_split=10, min_samples_leaf=2, max_depth=100 \n",
      "[CV]  n_estimators=100, min_samples_split=10, min_samples_leaf=2, max_depth=100, total=   1.0s\n",
      "[CV] n_estimators=500, min_samples_split=10, min_samples_leaf=2, max_depth=None \n",
      "[CV]  n_estimators=500, min_samples_split=10, min_samples_leaf=2, max_depth=None, total=   4.8s\n",
      "[CV] n_estimators=500, min_samples_split=10, min_samples_leaf=2, max_depth=None \n",
      "[CV]  n_estimators=500, min_samples_split=10, min_samples_leaf=2, max_depth=None, total=   4.7s\n",
      "[CV] n_estimators=500, min_samples_split=10, min_samples_leaf=2, max_depth=None \n",
      "[CV]  n_estimators=500, min_samples_split=10, min_samples_leaf=2, max_depth=None, total=   4.8s\n",
      "[CV] n_estimators=200, min_samples_split=2, min_samples_leaf=2, max_depth=20 \n",
      "[CV]  n_estimators=200, min_samples_split=2, min_samples_leaf=2, max_depth=20, total=   2.1s\n",
      "[CV] n_estimators=200, min_samples_split=2, min_samples_leaf=2, max_depth=20 \n",
      "[CV]  n_estimators=200, min_samples_split=2, min_samples_leaf=2, max_depth=20, total=   2.1s\n",
      "[CV] n_estimators=200, min_samples_split=2, min_samples_leaf=2, max_depth=20 \n",
      "[CV]  n_estimators=200, min_samples_split=2, min_samples_leaf=2, max_depth=20, total=   2.0s\n",
      "[CV] n_estimators=700, min_samples_split=5, min_samples_leaf=1, max_depth=60 \n",
      "[CV]  n_estimators=700, min_samples_split=5, min_samples_leaf=1, max_depth=60, total=   7.1s\n",
      "[CV] n_estimators=700, min_samples_split=5, min_samples_leaf=1, max_depth=60 \n",
      "[CV]  n_estimators=700, min_samples_split=5, min_samples_leaf=1, max_depth=60, total=   7.1s\n",
      "[CV] n_estimators=700, min_samples_split=5, min_samples_leaf=1, max_depth=60 \n",
      "[CV]  n_estimators=700, min_samples_split=5, min_samples_leaf=1, max_depth=60, total=   7.3s\n",
      "[CV] n_estimators=100, min_samples_split=2, min_samples_leaf=4, max_depth=40 \n",
      "[CV]  n_estimators=100, min_samples_split=2, min_samples_leaf=4, max_depth=40, total=   1.0s\n",
      "[CV] n_estimators=100, min_samples_split=2, min_samples_leaf=4, max_depth=40 \n",
      "[CV]  n_estimators=100, min_samples_split=2, min_samples_leaf=4, max_depth=40, total=   1.0s\n",
      "[CV] n_estimators=100, min_samples_split=2, min_samples_leaf=4, max_depth=40 \n",
      "[CV]  n_estimators=100, min_samples_split=2, min_samples_leaf=4, max_depth=40, total=   1.0s\n",
      "[CV] n_estimators=800, min_samples_split=10, min_samples_leaf=4, max_depth=10 \n",
      "[CV]  n_estimators=800, min_samples_split=10, min_samples_leaf=4, max_depth=10, total=   5.7s\n",
      "[CV] n_estimators=800, min_samples_split=10, min_samples_leaf=4, max_depth=10 \n",
      "[CV]  n_estimators=800, min_samples_split=10, min_samples_leaf=4, max_depth=10, total=   5.6s\n",
      "[CV] n_estimators=800, min_samples_split=10, min_samples_leaf=4, max_depth=10 \n",
      "[CV]  n_estimators=800, min_samples_split=10, min_samples_leaf=4, max_depth=10, total=   5.7s\n",
      "[CV] n_estimators=200, min_samples_split=2, min_samples_leaf=4, max_depth=100 \n",
      "[CV]  n_estimators=200, min_samples_split=2, min_samples_leaf=4, max_depth=100, total=   1.9s\n",
      "[CV] n_estimators=200, min_samples_split=2, min_samples_leaf=4, max_depth=100 \n",
      "[CV]  n_estimators=200, min_samples_split=2, min_samples_leaf=4, max_depth=100, total=   1.9s\n",
      "[CV] n_estimators=200, min_samples_split=2, min_samples_leaf=4, max_depth=100 \n",
      "[CV]  n_estimators=200, min_samples_split=2, min_samples_leaf=4, max_depth=100, total=   1.9s\n",
      "[CV] n_estimators=100, min_samples_split=5, min_samples_leaf=2, max_depth=20 \n",
      "[CV]  n_estimators=100, min_samples_split=5, min_samples_leaf=2, max_depth=20, total=   1.1s\n",
      "[CV] n_estimators=100, min_samples_split=5, min_samples_leaf=2, max_depth=20 \n",
      "[CV]  n_estimators=100, min_samples_split=5, min_samples_leaf=2, max_depth=20, total=   1.1s\n",
      "[CV] n_estimators=100, min_samples_split=5, min_samples_leaf=2, max_depth=20 \n",
      "[CV]  n_estimators=100, min_samples_split=5, min_samples_leaf=2, max_depth=20, total=   1.0s\n",
      "[CV] n_estimators=1000, min_samples_split=5, min_samples_leaf=2, max_depth=90 \n",
      "[CV]  n_estimators=1000, min_samples_split=5, min_samples_leaf=2, max_depth=90, total=  10.4s\n",
      "[CV] n_estimators=1000, min_samples_split=5, min_samples_leaf=2, max_depth=90 \n",
      "[CV]  n_estimators=1000, min_samples_split=5, min_samples_leaf=2, max_depth=90, total=  10.0s\n",
      "[CV] n_estimators=1000, min_samples_split=5, min_samples_leaf=2, max_depth=90 \n",
      "[CV]  n_estimators=1000, min_samples_split=5, min_samples_leaf=2, max_depth=90, total=   9.9s\n",
      "[CV] n_estimators=400, min_samples_split=5, min_samples_leaf=4, max_depth=40 \n",
      "[CV]  n_estimators=400, min_samples_split=5, min_samples_leaf=4, max_depth=40, total=   3.7s\n",
      "[CV] n_estimators=400, min_samples_split=5, min_samples_leaf=4, max_depth=40 \n",
      "[CV]  n_estimators=400, min_samples_split=5, min_samples_leaf=4, max_depth=40, total=   3.6s\n",
      "[CV] n_estimators=400, min_samples_split=5, min_samples_leaf=4, max_depth=40 \n",
      "[CV]  n_estimators=400, min_samples_split=5, min_samples_leaf=4, max_depth=40, total=   3.6s\n"
     ]
    },
    {
     "name": "stderr",
     "output_type": "stream",
     "text": [
      "[Parallel(n_jobs=1)]: Done  30 out of  30 | elapsed:  1.9min finished\n"
     ]
    },
    {
     "data": {
      "text/plain": [
       "RandomizedSearchCV(cv=3, error_score='raise-deprecating',\n",
       "                   estimator=RandomForestClassifier(bootstrap=True,\n",
       "                                                    class_weight=None,\n",
       "                                                    criterion='gini',\n",
       "                                                    max_depth=None,\n",
       "                                                    max_features='auto',\n",
       "                                                    max_leaf_nodes=None,\n",
       "                                                    min_impurity_decrease=0.0,\n",
       "                                                    min_impurity_split=None,\n",
       "                                                    min_samples_leaf=1,\n",
       "                                                    min_samples_split=2,\n",
       "                                                    min_weight_fraction_leaf=0.0,\n",
       "                                                    n_estimators='warn',\n",
       "                                                    n_jobs=None,\n",
       "                                                    oob_sc...\n",
       "                                                    verbose=0,\n",
       "                                                    warm_start=False),\n",
       "                   iid='warn', n_iter=10, n_jobs=None,\n",
       "                   param_distributions={'max_depth': [10, 20, 30, 40, 50, 60,\n",
       "                                                      70, 80, 90, 100, 110,\n",
       "                                                      None],\n",
       "                                        'min_samples_leaf': [1, 2, 4],\n",
       "                                        'min_samples_split': [2, 5, 10],\n",
       "                                        'n_estimators': [100, 200, 300, 400,\n",
       "                                                         500, 600, 700, 800,\n",
       "                                                         900, 1000]},\n",
       "                   pre_dispatch='2*n_jobs', random_state=42, refit=True,\n",
       "                   return_train_score=False, scoring='roc_auc', verbose=2)"
      ]
     },
     "execution_count": 39,
     "metadata": {},
     "output_type": "execute_result"
    }
   ],
   "source": [
    "rf = RandomForestClassifier() #base model to tune\n",
    "\n",
    "rf_random = RandomizedSearchCV(estimator = rf, param_distributions = random_grid, n_iter = 10, cv = 3, random_state=42, verbose = 2, scoring = 'roc_auc')\n",
    "# Fit the random search model\n",
    "rf_random.fit(ccdefaultfeatures, ccdefaultlabel)"
   ]
  },
  {
   "cell_type": "code",
   "execution_count": 41,
   "metadata": {},
   "outputs": [
    {
     "name": "stdout",
     "output_type": "stream",
     "text": [
      "{'n_estimators': 800, 'min_samples_split': 10, 'min_samples_leaf': 4, 'max_depth': 10}\n"
     ]
    }
   ],
   "source": [
    "print(rf_random.best_params_) #finding the best parameters from the grid search"
   ]
  },
  {
   "cell_type": "code",
   "execution_count": 55,
   "metadata": {},
   "outputs": [
    {
     "data": {
      "text/plain": [
       "('The cross validation scores are:',\n",
       " array([0.5989066 , 0.62402006, 0.62082581]))"
      ]
     },
     "execution_count": 55,
     "metadata": {},
     "output_type": "execute_result"
    }
   ],
   "source": [
    "randomforestclassifier(800,10,4,10)"
   ]
  },
  {
   "cell_type": "markdown",
   "metadata": {},
   "source": [
    "As we can see, the results after hypertuning 4 key parameters are slightly better but still no better than the baseline model. The next step is to engineer better features into the model."
   ]
  },
  {
   "cell_type": "markdown",
   "metadata": {},
   "source": [
    "## Further data exploration of other variables and feature engineering"
   ]
  },
  {
   "cell_type": "code",
   "execution_count": 59,
   "metadata": {},
   "outputs": [
    {
     "data": {
      "text/plain": [
       "Text(0, 0.5, 'Number of individuals')"
      ]
     },
     "execution_count": 59,
     "metadata": {},
     "output_type": "execute_result"
    },
    {
     "data": {
      "image/png": "[encoded data removed]",
      "text/plain": [
       "<Figure size 1080x1080 with 6 Axes>"
      ]
     },
     "metadata": {
      "needs_background": "light"
     },
     "output_type": "display_data"
    }
   ],
   "source": [
    "fig, ax = plt.subplots(3,2)\n",
    "fig.subplots_adjust(wspace = 0.5, hspace = 0.5)\n",
    "fig.set_size_inches(15,15)\n",
    "\n",
    "ax[0,0].hist(creditcarddf['PAY_0'])\n",
    "ax[0,0].set_title('Histogram of repayment status - September 2005')\n",
    "ax[0,0].set_xlabel('Repayment status (-1=pay duly, 1+ payment delay for x months')\n",
    "ax[0,0].set_ylabel('Number of individuals')\n",
    "\n",
    "ax[0,1].hist(creditcarddf['PAY_2'])\n",
    "ax[0,1].set_title('Histogram of repayment status - August 2005')\n",
    "ax[0,1].set_xlabel('Repayment status (-1=pay duly, 1+ payment delay for x months')\n",
    "ax[0,1].set_ylabel('Number of individuals')\n",
    "\n",
    "ax[1,0].hist(creditcarddf['PAY_3'])\n",
    "ax[1,0].set_title('Histogram of repayment status - July 2005')\n",
    "ax[1,0].set_xlabel('Repayment status (-1=pay duly, 1+ payment delay for x months')\n",
    "ax[1,0].set_ylabel('Number of individuals')\n",
    "\n",
    "ax[1,1].hist(creditcarddf['PAY_4'])\n",
    "ax[1,1].set_title('Histogram of repayment status - June 2005')\n",
    "ax[1,1].set_xlabel('Repayment status (-1=pay duly, 1+ payment delay for x months')\n",
    "ax[1,1].set_ylabel('Number of individuals')\n",
    "\n",
    "ax[2,0].hist(creditcarddf['PAY_5'])\n",
    "ax[2,0].set_title('Histogram of repayment status - May 2005')\n",
    "ax[2,0].set_xlabel('Repayment status (-1=pay duly, 1+ payment delay for x months')\n",
    "ax[2,0].set_ylabel('Number of individuals')\n",
    "\n",
    "ax[2,1].hist(creditcarddf['PAY_6'])\n",
    "ax[2,1].set_title('Histogram of repayment status - April 2005')\n",
    "ax[2,1].set_xlabel('Repayment status (-1=pay duly, 1+ payment delay for x months')\n",
    "ax[2,1].set_ylabel('Number of individuals')\n"
   ]
  },
  {
   "cell_type": "markdown",
   "metadata": {},
   "source": [
    "This initial exploratory analysis of the repayment status variables indicate that the modal value for repayment in all months is 1 month delay. In all mnonths except September, there also seems to be a two-peaked bimodal distribution with the majority of individuals either paying on time or having a 1 month delay, none having a 2 month delay and then a subsection of the population having payment delays greater than 2 months. Hence I will use this to create a dummy variable = 1 if PAY_0 >=2 and = 0 if PAY_0 <=1. Once limitation of this data is that there is significant proportion of individuals in the '-2' category which isn't accounted for in the data description so I don't know what this value means. As the majority of individuals do not default, I'm going to treat this in the group of individuals where PAY_0 <= 2 (pay on time or short delay). "
   ]
  },
  {
   "cell_type": "code",
   "execution_count": 78,
   "metadata": {},
   "outputs": [
    {
     "data": {
      "text/html": [
       "<div>\n",
       "<style scoped>\n",
       "    .dataframe tbody tr th:only-of-type {\n",
       "        vertical-align: middle;\n",
       "    }\n",
       "\n",
       "    .dataframe tbody tr th {\n",
       "        vertical-align: top;\n",
       "    }\n",
       "\n",
       "    .dataframe thead th {\n",
       "        text-align: right;\n",
       "    }\n",
       "</style>\n",
       "<table border=\"1\" class=\"dataframe\">\n",
       "  <thead>\n",
       "    <tr style=\"text-align: right;\">\n",
       "      <th></th>\n",
       "      <th>LIMIT_BAL</th>\n",
       "      <th>SEX</th>\n",
       "      <th>EDUCATION</th>\n",
       "      <th>MARRIAGE</th>\n",
       "      <th>AGE</th>\n",
       "      <th>PAY_0</th>\n",
       "      <th>PAY_2</th>\n",
       "      <th>PAY_3</th>\n",
       "      <th>PAY_4</th>\n",
       "      <th>PAY_5</th>\n",
       "      <th>...</th>\n",
       "      <th>BILL_AMT1</th>\n",
       "      <th>BILL_AMT2</th>\n",
       "      <th>BILL_AMT3</th>\n",
       "      <th>BILL_AMT4</th>\n",
       "      <th>BILL_AMT5</th>\n",
       "      <th>BILL_AMT6</th>\n",
       "      <th>default payment next month</th>\n",
       "      <th>SEX_DUMMY</th>\n",
       "      <th>MARRIAGE_DUMMY</th>\n",
       "      <th>EDUCATION_DUMMY</th>\n",
       "    </tr>\n",
       "    <tr>\n",
       "      <th>ID</th>\n",
       "      <th></th>\n",
       "      <th></th>\n",
       "      <th></th>\n",
       "      <th></th>\n",
       "      <th></th>\n",
       "      <th></th>\n",
       "      <th></th>\n",
       "      <th></th>\n",
       "      <th></th>\n",
       "      <th></th>\n",
       "      <th></th>\n",
       "      <th></th>\n",
       "      <th></th>\n",
       "      <th></th>\n",
       "      <th></th>\n",
       "      <th></th>\n",
       "      <th></th>\n",
       "      <th></th>\n",
       "      <th></th>\n",
       "      <th></th>\n",
       "      <th></th>\n",
       "    </tr>\n",
       "  </thead>\n",
       "  <tbody>\n",
       "    <tr>\n",
       "      <th>1</th>\n",
       "      <td>20000</td>\n",
       "      <td>2</td>\n",
       "      <td>2</td>\n",
       "      <td>1</td>\n",
       "      <td>24</td>\n",
       "      <td>2</td>\n",
       "      <td>2</td>\n",
       "      <td>-1</td>\n",
       "      <td>-1</td>\n",
       "      <td>-2</td>\n",
       "      <td>...</td>\n",
       "      <td>3913</td>\n",
       "      <td>3102</td>\n",
       "      <td>689</td>\n",
       "      <td>0</td>\n",
       "      <td>0</td>\n",
       "      <td>0</td>\n",
       "      <td>1</td>\n",
       "      <td>0</td>\n",
       "      <td>1</td>\n",
       "      <td>1</td>\n",
       "    </tr>\n",
       "    <tr>\n",
       "      <th>2</th>\n",
       "      <td>120000</td>\n",
       "      <td>2</td>\n",
       "      <td>2</td>\n",
       "      <td>2</td>\n",
       "      <td>26</td>\n",
       "      <td>-1</td>\n",
       "      <td>2</td>\n",
       "      <td>0</td>\n",
       "      <td>0</td>\n",
       "      <td>0</td>\n",
       "      <td>...</td>\n",
       "      <td>2682</td>\n",
       "      <td>1725</td>\n",
       "      <td>2682</td>\n",
       "      <td>3272</td>\n",
       "      <td>3455</td>\n",
       "      <td>3261</td>\n",
       "      <td>1</td>\n",
       "      <td>0</td>\n",
       "      <td>0</td>\n",
       "      <td>1</td>\n",
       "    </tr>\n",
       "    <tr>\n",
       "      <th>3</th>\n",
       "      <td>90000</td>\n",
       "      <td>2</td>\n",
       "      <td>2</td>\n",
       "      <td>2</td>\n",
       "      <td>34</td>\n",
       "      <td>0</td>\n",
       "      <td>0</td>\n",
       "      <td>0</td>\n",
       "      <td>0</td>\n",
       "      <td>0</td>\n",
       "      <td>...</td>\n",
       "      <td>29239</td>\n",
       "      <td>14027</td>\n",
       "      <td>13559</td>\n",
       "      <td>14331</td>\n",
       "      <td>14948</td>\n",
       "      <td>15549</td>\n",
       "      <td>0</td>\n",
       "      <td>0</td>\n",
       "      <td>0</td>\n",
       "      <td>1</td>\n",
       "    </tr>\n",
       "    <tr>\n",
       "      <th>4</th>\n",
       "      <td>50000</td>\n",
       "      <td>2</td>\n",
       "      <td>2</td>\n",
       "      <td>1</td>\n",
       "      <td>37</td>\n",
       "      <td>0</td>\n",
       "      <td>0</td>\n",
       "      <td>0</td>\n",
       "      <td>0</td>\n",
       "      <td>0</td>\n",
       "      <td>...</td>\n",
       "      <td>46990</td>\n",
       "      <td>48233</td>\n",
       "      <td>49291</td>\n",
       "      <td>28314</td>\n",
       "      <td>28959</td>\n",
       "      <td>29547</td>\n",
       "      <td>0</td>\n",
       "      <td>0</td>\n",
       "      <td>1</td>\n",
       "      <td>1</td>\n",
       "    </tr>\n",
       "    <tr>\n",
       "      <th>5</th>\n",
       "      <td>50000</td>\n",
       "      <td>1</td>\n",
       "      <td>2</td>\n",
       "      <td>1</td>\n",
       "      <td>57</td>\n",
       "      <td>-1</td>\n",
       "      <td>0</td>\n",
       "      <td>-1</td>\n",
       "      <td>0</td>\n",
       "      <td>0</td>\n",
       "      <td>...</td>\n",
       "      <td>8617</td>\n",
       "      <td>5670</td>\n",
       "      <td>35835</td>\n",
       "      <td>20940</td>\n",
       "      <td>19146</td>\n",
       "      <td>19131</td>\n",
       "      <td>0</td>\n",
       "      <td>1</td>\n",
       "      <td>1</td>\n",
       "      <td>1</td>\n",
       "    </tr>\n",
       "  </tbody>\n",
       "</table>\n",
       "<p>5 rows × 21 columns</p>\n",
       "</div>"
      ],
      "text/plain": [
       "    LIMIT_BAL  SEX  EDUCATION  MARRIAGE  AGE  PAY_0  PAY_2  PAY_3  PAY_4  \\\n",
       "ID                                                                         \n",
       "1       20000    2          2         1   24      2      2     -1     -1   \n",
       "2      120000    2          2         2   26     -1      2      0      0   \n",
       "3       90000    2          2         2   34      0      0      0      0   \n",
       "4       50000    2          2         1   37      0      0      0      0   \n",
       "5       50000    1          2         1   57     -1      0     -1      0   \n",
       "\n",
       "    PAY_5  ...  BILL_AMT1  BILL_AMT2  BILL_AMT3  BILL_AMT4  BILL_AMT5  \\\n",
       "ID         ...                                                          \n",
       "1      -2  ...       3913       3102        689          0          0   \n",
       "2       0  ...       2682       1725       2682       3272       3455   \n",
       "3       0  ...      29239      14027      13559      14331      14948   \n",
       "4       0  ...      46990      48233      49291      28314      28959   \n",
       "5       0  ...       8617       5670      35835      20940      19146   \n",
       "\n",
       "    BILL_AMT6  default payment next month  SEX_DUMMY  MARRIAGE_DUMMY  \\\n",
       "ID                                                                     \n",
       "1           0                           1          0               1   \n",
       "2        3261                           1          0               0   \n",
       "3       15549                           0          0               0   \n",
       "4       29547                           0          0               1   \n",
       "5       19131                           0          1               1   \n",
       "\n",
       "    EDUCATION_DUMMY  \n",
       "ID                   \n",
       "1                 1  \n",
       "2                 1  \n",
       "3                 1  \n",
       "4                 1  \n",
       "5                 1  \n",
       "\n",
       "[5 rows x 21 columns]"
      ]
     },
     "execution_count": 78,
     "metadata": {},
     "output_type": "execute_result"
    }
   ],
   "source": [
    "creditcarddf.head()"
   ]
  },
  {
   "cell_type": "code",
   "execution_count": 79,
   "metadata": {},
   "outputs": [],
   "source": [
    "creditcarddf['PAY_0_DUMMY'] = np.where(creditcarddf['PAY_0'] >= 2, 1, 0)\n",
    "creditcarddf['PAY_2_DUMMY'] = np.where(creditcarddf['PAY_2'] >= 2, 1, 0)\n",
    "creditcarddf['PAY_3_DUMMY'] = np.where(creditcarddf['PAY_3'] >= 2, 1, 0)\n",
    "creditcarddf['PAY_4_DUMMY'] = np.where(creditcarddf['PAY_4'] >= 2, 1, 0)\n",
    "creditcarddf['PAY_5_DUMMY'] = np.where(creditcarddf['PAY_5'] >= 2, 1, 0)\n",
    "creditcarddf['PAY_6_DUMMY'] = np.where(creditcarddf['PAY_6'] >= 2, 1, 0)"
   ]
  },
  {
   "cell_type": "code",
   "execution_count": 93,
   "metadata": {},
   "outputs": [
    {
     "data": {
      "text/plain": [
       "('The cross validation scores are:',\n",
       " array([0.71882929, 0.75468678, 0.75359391]))"
      ]
     },
     "execution_count": 93,
     "metadata": {},
     "output_type": "execute_result"
    }
   ],
   "source": [
    "features = ['LIMIT_BAL', 'SEX_DUMMY', 'EDUCATION_DUMMY', 'MARRIAGE_DUMMY', 'AGE', 'PAY_0_DUMMY', 'PAY_2_DUMMY', 'PAY_3_DUMMY', 'PAY_4_DUMMY', 'PAY_5_DUMMY', 'PAY_6_DUMMY']\n",
    "ccdefaultfeatures = creditcarddf[features]\n",
    "randomforestclassifier(800,10,4,10)"
   ]
  },
  {
   "cell_type": "code",
   "execution_count": 104,
   "metadata": {},
   "outputs": [
    {
     "data": {
      "text/plain": [
       "RandomForestClassifier(bootstrap=True, class_weight=None, criterion='gini',\n",
       "                       max_depth=10, max_features='auto', max_leaf_nodes=None,\n",
       "                       min_impurity_decrease=0.0, min_impurity_split=None,\n",
       "                       min_samples_leaf=4, min_samples_split=10,\n",
       "                       min_weight_fraction_leaf=0.0, n_estimators=800,\n",
       "                       n_jobs=None, oob_score=False, random_state=42, verbose=0,\n",
       "                       warm_start=False)"
      ]
     },
     "execution_count": 104,
     "metadata": {},
     "output_type": "execute_result"
    }
   ],
   "source": [
    "rfmodel = RandomForestClassifier(n_estimators = 800, min_samples_split = 10, min_samples_leaf = 4, max_depth = 10, random_state = 42)\n",
    "rfmodel.fit(ccdefaultfeatures, ccdefaultlabel)\n"
   ]
  },
  {
   "cell_type": "code",
   "execution_count": 142,
   "metadata": {},
   "outputs": [
    {
     "name": "stdout",
     "output_type": "stream",
     "text": [
      "           Variable  Feature importance\n",
      "5       PAY_0_DUMMY            0.365342\n",
      "6       PAY_2_DUMMY            0.171859\n",
      "7       PAY_3_DUMMY            0.092684\n",
      "0         LIMIT_BAL            0.090547\n",
      "4               AGE            0.078845\n",
      "8       PAY_4_DUMMY            0.068344\n",
      "9       PAY_5_DUMMY            0.054464\n",
      "10      PAY_6_DUMMY            0.040377\n",
      "1         SEX_DUMMY            0.013529\n",
      "3    MARRIAGE_DUMMY            0.013188\n",
      "2   EDUCATION_DUMMY            0.010821\n"
     ]
    },
    {
     "data": {
      "text/plain": [
       "Text(0, 0.5, 'Feature importance')"
      ]
     },
     "execution_count": 142,
     "metadata": {},
     "output_type": "execute_result"
    },
    {
     "data": {
      "image/png": "[encoded data removed]",
      "text/plain": [
       "<Figure size 1440x288 with 1 Axes>"
      ]
     },
     "metadata": {
      "needs_background": "light"
     },
     "output_type": "display_data"
    }
   ],
   "source": [
    "feature_importances = pd.DataFrame(rfmodel.feature_importances_, index = ccdefaultfeatures.columns)\n",
    "feature_importances.reset_index(inplace = True)\n",
    "feature_importances.columns = ['Variable','Feature importance']\n",
    "feature_importances = feature_importances.sort_values(by = 'Feature importance', ascending = False)\n",
    "print(feature_importances)\n",
    "\n",
    "fig, ax = plt.subplots()\n",
    "fig.subplots_adjust(wspace = 0.5, hspace = 0.5)\n",
    "fig.set_size_inches(20,4)\n",
    "ax.bar(feature_importances['Variable'], feature_importances['Feature importance'])\n",
    "ax.set_ylabel('Feature importance')\n"
   ]
  },
  {
   "cell_type": "code",
   "execution_count": null,
   "metadata": {},
   "outputs": [],
   "source": []
  }
 ],
 "metadata": {
  "kernelspec": {
   "display_name": "Python 3",
   "language": "python",
   "name": "python3"
  },
  "language_info": {
   "codemirror_mode": {
    "name": "ipython",
    "version": 3
   },
   "file_extension": ".py",
   "mimetype": "text/x-python",
   "name": "python",
   "nbconvert_exporter": "python",
   "pygments_lexer": "ipython3",
   "version": "3.7.3"
  }
 },
 "nbformat": 4,
 "nbformat_minor": 2
}
